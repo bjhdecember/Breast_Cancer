{
 "cells": [
  {
   "cell_type": "code",
   "execution_count": null,
   "metadata": {},
   "outputs": [],
   "source": [
    "import pandas as pd\n",
    "import matplotlib as plt\n",
    "import matplotlib as mpl\n",
    "import numpy as py\n",
    "#df = pd.read_csv(r'C:\\Users\\barba\\OneDrive\\Documents\\Cancer.csv')\n",
    "\n",
    "#print(df)\n",
    "\n",
    "df = pd.read_excel(r'C:\\Users\\barba\\OneDrive\\Desktop\\Data_1_checks\\data_1_checks\\assests\\Cancer_Data.xlsx')\n",
    "\n",
    "print(df)"
   ]
  },
  {
   "cell_type": "code",
   "execution_count": null,
   "metadata": {},
   "outputs": [],
   "source": [
    "import pandas as pd\n",
    "import matplotlib as plt\n",
    "import matplotlib as mpl\n",
    "import numpy as py\n",
    "\n",
    "df = pd.read_excel(r'C:\\Users\\barba\\OneDrive\\Desktop\\Data_1_checks\\data_1_checks\\assests\\Cancer_Data.xlsx')\n",
    "\n",
    "#Decide what data to plot\n",
    "STATE = ['Michigan','Kentucky','Ohio','California','Texas']\n",
    "\n",
    "\n",
    "        \n",
    "df = pd.DataFrame(Data,columns=['STATE','FEMALEBREAST'])\n",
    "\n",
    "#Plot data\n",
    "df.plot(kind = 'bar', x = 'STATE', y = 'FEMALEBREAST',  \n",
    "        color = 'pink', title = 'Breast Cancer per State')\n"
   ]
  }
 ],
 "metadata": {
  "language_info": {
   "name": "python"
  },
  "orig_nbformat": 4
 },
 "nbformat": 4,
 "nbformat_minor": 2
}
